{
 "cells": [
  {
   "cell_type": "markdown",
   "metadata": {},
   "source": [
    "# Converting our new nested Tweets into CSVs"
   ]
  },
  {
   "cell_type": "code",
   "execution_count": 11,
   "metadata": {},
   "outputs": [],
   "source": [
    "import json, csv, sys"
   ]
  },
  {
   "cell_type": "code",
   "execution_count": 12,
   "metadata": {},
   "outputs": [],
   "source": [
    "FILE = './drought_northeast.jsonseq'\n",
    "OUTPUT = './drought_northeast.csv'"
   ]
  },
  {
   "cell_type": "code",
   "execution_count": 49,
   "metadata": {},
   "outputs": [],
   "source": [
    "# Now to extract our favorite rows\n",
    "def safe(func):\n",
    "    try:\n",
    "        return func\n",
    "    except:\n",
    "        return None\n",
    "@safe\n",
    "def handle(t):\n",
    "    return t.get('user').get('username')\n",
    "    \n",
    "@safe\n",
    "def name(t):\n",
    "    return t.get('user').get('name')\n",
    "\n",
    "@safe        \n",
    "def user_description(t):\n",
    "    return t.get('user').get('description')\n",
    "\n",
    "@safe    \n",
    "def place(t):\n",
    "    return t.get('place').get('full_name')\n",
    "\n",
    "@safe\n",
    "def link(t):\n",
    "    return \"https://twitter.com/i/web/status/{}\".format(t.get('id'))\n",
    "\n",
    "@safe\n",
    "def safe_text(text):\n",
    "    text = text.replace(\"\\r\",\" \")\n",
    "    text = text.replace(\"\\n\",\" \")\n",
    "    text = text.replace(\"\\t\",\" \")\n",
    "    text = text.replace(\"\\f\",\" \")\n",
    "    text = text.replace(\"\\v\",\" \")\n",
    "    return text"
   ]
  },
  {
   "cell_type": "code",
   "execution_count": 50,
   "metadata": {},
   "outputs": [],
   "source": [
    "#Just do it all on the fly: \n",
    "\n",
    "with open(OUTPUT, 'w') as outFile:\n",
    "    lines=0;\n",
    "    writer = csv.writer(outFile, )\n",
    "    \n",
    "    for line in open(FILE,'r'):\n",
    "        try:\n",
    "            tweet = json.loads(line.strip())\n",
    "            lines+=1;\n",
    "            \n",
    "            if lines==1:\n",
    "#                 headers = list(tweet.keys())\n",
    "                \n",
    "                #referenced_tweets,created_at,id,author_id,text,geo,conversation_id,in_reply_to_user_id,user,place\n",
    "                headers = ['link','created_at','text','author_id','handle','place','user_description','full name']\n",
    "                \n",
    "                writer.writerow(headers)\n",
    "            \n",
    "            else:\n",
    "                writer.writerow([\n",
    "                    link(tweet),\n",
    "                    tweet.get('created_at'),\n",
    "                    safe_text(tweet.get('text')),\n",
    "                    'u'+tweet.get('author_id'),\n",
    "                    handle(tweet),\n",
    "                    place(tweet),\n",
    "                    safe_text(user_description(tweet)),\n",
    "                    name(tweet)\n",
    "                ])\n",
    "        except:\n",
    "            raise\n",
    "            sys.stderr.write(\"\\rError on tweet: \"+json.dumps(tweet, indent=2))"
   ]
  },
  {
   "cell_type": "code",
   "execution_count": null,
   "metadata": {},
   "outputs": [],
   "source": []
  }
 ],
 "metadata": {
  "kernelspec": {
   "display_name": "Python 3",
   "language": "python",
   "name": "python3"
  },
  "language_info": {
   "codemirror_mode": {
    "name": "ipython",
    "version": 3
   },
   "file_extension": ".py",
   "mimetype": "text/x-python",
   "name": "python",
   "nbconvert_exporter": "python",
   "pygments_lexer": "ipython3",
   "version": "3.6.9"
  }
 },
 "nbformat": 4,
 "nbformat_minor": 4
}
