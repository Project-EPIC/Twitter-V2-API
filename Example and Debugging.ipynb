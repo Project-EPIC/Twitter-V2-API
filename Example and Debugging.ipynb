{
 "cells": [
  {
   "cell_type": "markdown",
   "metadata": {},
   "source": [
    "# Using the Query Module in a Notebook\n",
    "\n",
    "Using `store=True` means we keep the tweets in memory and we can access the `_data` object within the QueryHandler to see how we're doing!"
   ]
  },
  {
   "cell_type": "code",
   "execution_count": 8,
   "metadata": {},
   "outputs": [],
   "source": [
    "import yaml, json"
   ]
  },
  {
   "cell_type": "code",
   "execution_count": 9,
   "metadata": {},
   "outputs": [],
   "source": [
    "from query import QueryHandler"
   ]
  },
  {
   "cell_type": "code",
   "execution_count": 10,
   "metadata": {},
   "outputs": [],
   "source": [
    "TOKEN = str(open('./.bearer_token','r').read().strip())\n",
    "query_config = yaml.safe_load(open('query_config.yaml', 'r'))\n",
    "# What do we do with the tweets? \n",
    "output  = None\n",
    "_write  = False\n",
    "if query_config.get('output'):\n",
    "    _write=True\n",
    "    output = query_config.get(\"output\")\n",
    "limit = query_config.get('limit')\n",
    "# Need to remove anything that's not a valid Twitter parameter\n",
    "query_config.pop('output', None)\n",
    "query_config.pop('store', None)\n",
    "query_config.pop('print', None)\n",
    "query_config.pop('bearer_token', None)\n",
    "query_config.pop('limit', None)\n",
    "\n",
    "query_config['max_results'] = 10 #For debugging, we don't need that many tweets\n",
    "# print(json.dumps(query_config, indent=2))"
   ]
  },
  {
   "cell_type": "code",
   "execution_count": 11,
   "metadata": {},
   "outputs": [
    {
     "name": "stderr",
     "output_type": "stream",
     "text": [
      "Query Initialized; 297 requests remaining and 203 seconds until window resets:\n",
      "{\n",
      "    \"newest_id\": \"1321916330719825921\",\n",
      "    \"oldest_id\": \"1317232423403474944\",\n",
      "    \"result_count\": 10,\n",
      "    \"next_token\": \"b26v89c19zqg8o3fos8vb4tas3ahxci7p7gz7q0ctaxdp\"\n",
      "}Latest Tweet:\n",
      "{\n",
      "    \"referenced_tweets\": [\n",
      "        {\n",
      "            \"type\": \"replied_to\",\n",
      "            \"id\": \"1321835904026161152\"\n",
      "        }\n",
      "    ],\n",
      "    \"created_at\": \"2020-10-29T20:46:27.000Z\",\n",
      "    \"id\": \"1321916330719825921\",\n",
      "    \"author_id\": \"751196586\",\n",
      "    \"text\": \"@KevSkarupaWMUR This is also a good source https://t.co/i8PiTK6Opn\",\n",
      "    \"geo\": {\n",
      "        \"place_id\": \"226b21641df42460\"\n",
      "    },\n",
      "    \"conversation_id\": \"1321835904026161152\",\n",
      "    \"in_reply_to_user_id\": \"2188349486\",\n",
      "    \"user\": {\n",
      "        \"description\": \"Retired chemist & automotive engineer\",\n",
      "        \"name\": \"Bob Kurbel\",\n",
      "        \"id\": \"751196586\",\n",
      "        \"username\": \"BobKurbel\"\n",
      "    },\n",
      "    \"place\": {\n",
      "        \"full_name\": \"New Hampshire, USA\",\n",
      "        \"id\": \"226b21641df42460\",\n",
      "        \"name\": \"New Hampshire\"\n",
      "    }\n",
      "}"
     ]
    }
   ],
   "source": [
    "# And now we start!\n",
    "t = QueryHandler(\n",
    "        headers={\"Authorization\": \"Bearer {}\".format(TOKEN)},\n",
    "        _print=False,\n",
    "        store=True,\n",
    "        write=_write,\n",
    "        outfile=output,\n",
    "        params=query_config)"
   ]
  },
  {
   "cell_type": "code",
   "execution_count": 12,
   "metadata": {},
   "outputs": [
    {
     "name": "stderr",
     "output_type": "stream",
     "text": [
      "\n",
      "hit limit, stopping; next_token: b26v89c19zqg8o3fos8t7pj1o0iynmrkonxjogaqzp5dp\n",
      "Finished; 30 tweets | 295 requests remaining"
     ]
    }
   ],
   "source": [
    "limit = query_config.get('limit') or 2\n",
    "t.get_all_tweets(limit=limit)"
   ]
  },
  {
   "cell_type": "markdown",
   "metadata": {},
   "source": [
    "### So what do the tweets look like?"
   ]
  },
  {
   "cell_type": "code",
   "execution_count": 17,
   "metadata": {},
   "outputs": [
    {
     "data": {
      "text/plain": [
       "[{'geo': {'place_id': '6d50765616ee2e60'},\n",
       "  'id': '1314660057796218882',\n",
       "  'author_id': '2236433066',\n",
       "  'text': 'Hey remember in The Lion King when there was a drought, a famine, and all of nature basically decided to fuck over the pride lands just because an villainous new ruler came to power?\\n\\nRemember when people criticized that for being too on the nose and too far removed from reality?',\n",
       "  'conversation_id': '1314660057796218882',\n",
       "  'created_at': '2020-10-09T20:12:37.000Z',\n",
       "  'user': {'username': 'seanfaywolfe',\n",
       "   'id': '2236433066',\n",
       "   'description': 'Author of the Elementia Chronicles Series\\n--\\nYT Music Critic: Diamond Axe Studios Music\\n(https://t.co/TnODltosk5) Ages 14 and Up\\n--\\nPfp by @Tris_Otaking',\n",
       "   'name': 'Sean Fay Wolfe'},\n",
       "  'place': {'full_name': 'Rhode Island, USA',\n",
       "   'id': '6d50765616ee2e60',\n",
       "   'name': 'Rhode Island'}},\n",
       " {'referenced_tweets': [{'type': 'replied_to', 'id': '1314247066932121600'}],\n",
       "  'geo': {'place_id': '94965b2c45386f87'},\n",
       "  'id': '1314361677190758406',\n",
       "  'author_id': '1150969998367698944',\n",
       "  'text': \"@snot_ear @amtvmedia We have the best minds planning a mission to Mars!!!\\U0001f9d0 But here's an idea.We can take the worst flood areas of the Mississippi, pipe water to drought ridden California. Build new reservoirs, new lakes, create jobs and actually have water to put on fire's, plus farm benifits.#fire\",\n",
       "  'conversation_id': '1313942132575485952',\n",
       "  'in_reply_to_user_id': '1258384546367770630',\n",
       "  'created_at': '2020-10-09T00:26:58.000Z',\n",
       "  'user': {'username': 'CryptoMake',\n",
       "   'id': '1150969998367698944',\n",
       "   'description': 'Prepper/investor.  Hope for the best prepare for the worst !',\n",
       "   'name': 'Make It Rain Crypto'},\n",
       "  'place': {'full_name': 'New York, USA',\n",
       "   'id': '94965b2c45386f87',\n",
       "   'name': 'New York'}}]"
      ]
     },
     "execution_count": 17,
     "metadata": {},
     "output_type": "execute_result"
    }
   ],
   "source": [
    "t._data.get('data')[:2]"
   ]
  },
  {
   "cell_type": "code",
   "execution_count": 6,
   "metadata": {
    "scrolled": true
   },
   "outputs": [
    {
     "data": {
      "text/plain": [
       "dict_keys(['users', 'places'])"
      ]
     },
     "execution_count": 6,
     "metadata": {},
     "output_type": "execute_result"
    }
   ],
   "source": [
    "t._data.get('includes').keys()"
   ]
  },
  {
   "cell_type": "code",
   "execution_count": 16,
   "metadata": {},
   "outputs": [
    {
     "data": {
      "text/plain": [
       "[{'username': 'seanfaywolfe',\n",
       "  'id': '2236433066',\n",
       "  'description': 'Author of the Elementia Chronicles Series\\n--\\nYT Music Critic: Diamond Axe Studios Music\\n(https://t.co/TnODltosk5) Ages 14 and Up\\n--\\nPfp by @Tris_Otaking',\n",
       "  'name': 'Sean Fay Wolfe'},\n",
       " {'username': 'CryptoMake',\n",
       "  'id': '1150969998367698944',\n",
       "  'description': 'Prepper/investor.  Hope for the best prepare for the worst !',\n",
       "  'name': 'Make It Rain Crypto'}]"
      ]
     },
     "execution_count": 16,
     "metadata": {},
     "output_type": "execute_result"
    }
   ],
   "source": [
    "t._data.get('includes').get('users')[:2]"
   ]
  },
  {
   "cell_type": "code",
   "execution_count": 15,
   "metadata": {},
   "outputs": [
    {
     "data": {
      "text/plain": [
       "[{'full_name': 'Rhode Island, USA',\n",
       "  'id': '6d50765616ee2e60',\n",
       "  'name': 'Rhode Island'},\n",
       " {'full_name': 'New York, USA', 'id': '94965b2c45386f87', 'name': 'New York'}]"
      ]
     },
     "execution_count": 15,
     "metadata": {},
     "output_type": "execute_result"
    }
   ],
   "source": [
    "t._data.get('includes').get('places')[:2]"
   ]
  },
  {
   "cell_type": "code",
   "execution_count": null,
   "metadata": {},
   "outputs": [],
   "source": []
  }
 ],
 "metadata": {
  "kernelspec": {
   "display_name": "Python 3",
   "language": "python",
   "name": "python3"
  },
  "language_info": {
   "codemirror_mode": {
    "name": "ipython",
    "version": 3
   },
   "file_extension": ".py",
   "mimetype": "text/x-python",
   "name": "python",
   "nbconvert_exporter": "python",
   "pygments_lexer": "ipython3",
   "version": "3.6.9"
  }
 },
 "nbformat": 4,
 "nbformat_minor": 4
}
